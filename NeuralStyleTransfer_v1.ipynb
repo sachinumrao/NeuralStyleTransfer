{
 "cells": [
  {
   "cell_type": "markdown",
   "metadata": {},
   "source": [
    "## Import Dependencies"
   ]
  },
  {
   "cell_type": "code",
   "execution_count": 38,
   "metadata": {},
   "outputs": [],
   "source": [
    "import numpy as np\n",
    "from keras import backend as K\n",
    "from keras.preprocessing.image import load_img, img_to_array\n",
    "from keras.applications import vgg19"
   ]
  },
  {
   "cell_type": "code",
   "execution_count": 39,
   "metadata": {},
   "outputs": [
    {
     "name": "stdout",
     "output_type": "stream",
     "text": [
      "/home/sachin/anaconda3/envs/tf-deep/lib/python3.6/site-packages/PIL/Image.py\n"
     ]
    }
   ],
   "source": [
    "#!conda install pillow -y\n",
    "from PIL import Image\n",
    "print(Image.__file__)"
   ]
  },
  {
   "cell_type": "code",
   "execution_count": 40,
   "metadata": {},
   "outputs": [],
   "source": [
    "folder_name = 'img/'\n",
    "target_image_path = folder_name+'target.jpg'\n",
    "style_reference_image_path = folder_name+'reference.jpg'"
   ]
  },
  {
   "cell_type": "code",
   "execution_count": 41,
   "metadata": {},
   "outputs": [],
   "source": [
    "# import sys\n",
    "# from PIL import Image\n",
    "# sys.modules['Image'] = Image "
   ]
  },
  {
   "cell_type": "code",
   "execution_count": null,
   "metadata": {},
   "outputs": [],
   "source": [
    "width, height = load_img(target_image_path).size\n",
    "img_height = 400\n",
    "img_width = int(width*img_height/height)"
   ]
  },
  {
   "cell_type": "code",
   "execution_count": null,
   "metadata": {},
   "outputs": [],
   "source": [
    "def preprocess_image(image_path):\n",
    "    img = load_img(image_path, target_size=(img_height, img_width))\n",
    "    img = img_to_array(img)\n",
    "    img = np.expand_dims(img, axis=0)\n",
    "    img = vgg19.preprocess_input(img)\n",
    "    return img"
   ]
  },
  {
   "cell_type": "code",
   "execution_count": null,
   "metadata": {},
   "outputs": [],
   "source": [
    "def deprocess_image(x):\n",
    "    x[:,:,0] += 103.939\n",
    "    x[:,:,1] += 116.779\n",
    "    x[:,:,2] += 123.68\n",
    "    x = x[:,:,::-1]\n",
    "    x = np.clip(x,0,255).astype('uint8')\n",
    "    return x"
   ]
  },
  {
   "cell_type": "markdown",
   "metadata": {},
   "source": [
    "## Load the trained VGG19 model"
   ]
  },
  {
   "cell_type": "code",
   "execution_count": null,
   "metadata": {},
   "outputs": [
    {
     "name": "stdout",
     "output_type": "stream",
     "text": [
      "Model Loaded\n"
     ]
    }
   ],
   "source": [
    "target_image = K.constant(preprocess_image(target_image_path))\n",
    "style_reference_image = K.constant(preprocess_image(style_reference_image_path))\n",
    "combination_image = K.placeholder((1, img_height, img_width, 3))\n",
    "\n",
    "input_tensor = K.concatenate([target_image,\n",
    "                             style_reference_image,\n",
    "                             combination_image], axis=0)\n",
    "\n",
    "model = vgg19.VGG19(input_tensor=input_tensor,\n",
    "                   weights = 'imagenet',\n",
    "                   include_top = False)\n",
    "\n",
    "print('Model Loaded')"
   ]
  },
  {
   "cell_type": "markdown",
   "metadata": {},
   "source": [
    "## Content Loss"
   ]
  },
  {
   "cell_type": "code",
   "execution_count": null,
   "metadata": {},
   "outputs": [],
   "source": [
    "def content_loss(base, combination):\n",
    "    return K.sum(K.square(combination- base))"
   ]
  },
  {
   "cell_type": "markdown",
   "metadata": {},
   "source": [
    "## Style Loss"
   ]
  },
  {
   "cell_type": "code",
   "execution_count": null,
   "metadata": {},
   "outputs": [],
   "source": [
    "def gram_matrix(x):\n",
    "    features = K.batch_flatten(K.permute_dimensions(x,(2,0,1)))\n",
    "    gram = K.dot(features, K.transpose(features))\n",
    "    return gram\n",
    "\n",
    "def style_loss(style, combination):\n",
    "    S = gram_matrix(style)\n",
    "    C = gram_matrix(combination)\n",
    "    channels = 3\n",
    "    size = img_height * img_width\n",
    "    return K.sum(K.square(S-C))/(4.0 * (channels**2)*(size**2))"
   ]
  },
  {
   "cell_type": "markdown",
   "metadata": {},
   "source": [
    "## Total Variational Loss"
   ]
  },
  {
   "cell_type": "code",
   "execution_count": null,
   "metadata": {},
   "outputs": [],
   "source": [
    "def total_variation_loss(x):\n",
    "    a = K.square(\n",
    "        x[:,:img_height-1, :img_width-1, :] - \n",
    "        x[:,1:,:img_width-1,:])\n",
    "    \n",
    "    b = K.square(\n",
    "        x[:,:img_height-1,:img_width-1,:] - \n",
    "        x[:,:img_height-1,1:,:])\n",
    "    return K.sum(K.pow(a+b, 1.25))"
   ]
  },
  {
   "cell_type": "code",
   "execution_count": null,
   "metadata": {},
   "outputs": [],
   "source": [
    "outputs_dict = dict([(layer.name, layer.output) for layer in model.layers])\n",
    "content_layer = 'block5_conv2'\n",
    "style_layers = ['block1_conv1',\n",
    "               'block2_conv1',\n",
    "               'block3_conv1',\n",
    "               'block4_conv1',\n",
    "               'block5_conv1']\n",
    "\n",
    "total_variation_weight = 1e-4\n",
    "style_weight = 1.0\n",
    "content_weight = 0.025\n",
    "\n",
    "loss = K.variable(0.0)\n",
    "layer_features = outputs_dict[content_layer]\n",
    "target_image_features = layer_features[0,:,:,:]\n",
    "combination_features = layer_features[2,:,:,:]\n",
    "\n",
    "loss += content_weight * content_loss(target_image_features, combination_features)\n",
    "\n",
    "for layer_name in style_layers:\n",
    "    layer_features = outputs_dict[layer_name]\n",
    "    style_reference_features = layer_features[1,:,:,:]\n",
    "    combination_features = layer_features[2,:,:,:]\n",
    "    s1 = style_loss(style_reference_features, combination_features)\n",
    "    loss += (style_weight/ len(style_layers)) *s1\n",
    "    \n",
    "loss += total_variation_weight * total_variation_loss(combination_image)\n"
   ]
  },
  {
   "cell_type": "code",
   "execution_count": null,
   "metadata": {},
   "outputs": [],
   "source": [
    "grads = K.gradients(loss, combination_image)[0]\n",
    "fetch_loss_and_grads = K.function([combination_image],[loss, grads])\n",
    "\n",
    "class Evaluator(object):\n",
    "    \n",
    "    def __init__(self):\n",
    "        self.loss_value = None\n",
    "        self.grads_values = None\n",
    "        \n",
    "    def loss(self, x):\n",
    "        assert self.loss_value is None\n",
    "        x = x.reshape((1, img_height, img_width, 3))\n",
    "        outs = fetch_loss_and_grads([x])\n",
    "        loss_value = outs[0]\n",
    "        grad_values = outs[1].flatten().astype('float64')\n",
    "        self.loss_value = loss_value\n",
    "        self.grad_values = grad_values\n",
    "        return self.loss_value\n",
    "    \n",
    "    def grads(self, x):\n",
    "        assert self.loss_value is not None\n",
    "        grad_values = np.copy(self.grad_values)\n",
    "        self.loss_value = None\n",
    "        self.grad_value = None\n",
    "        return grad_values"
   ]
  },
  {
   "cell_type": "code",
   "execution_count": null,
   "metadata": {},
   "outputs": [],
   "source": [
    "evaluator = Evaluator()"
   ]
  },
  {
   "cell_type": "code",
   "execution_count": null,
   "metadata": {},
   "outputs": [],
   "source": [
    "from scipy.optimize import fmin_l_bfgs_b\n",
    "from scipy.misc import imsave\n",
    "import time"
   ]
  },
  {
   "cell_type": "code",
   "execution_count": null,
   "metadata": {},
   "outputs": [],
   "source": [
    "result_prefix = folder_name+'my_result'\n",
    "iterations = 50"
   ]
  },
  {
   "cell_type": "code",
   "execution_count": null,
   "metadata": {},
   "outputs": [
    {
     "name": "stdout",
     "output_type": "stream",
     "text": [
      "Start of iteration:  0\n",
      "Current loss value:  1374335700.0\n",
      "Image saved as:  img/my_result_at_iteration_0.png\n",
      "Iteraion 0 completed in 5s \n",
      "Start of iteration:  1\n"
     ]
    },
    {
     "name": "stderr",
     "output_type": "stream",
     "text": [
      "/home/sachin/anaconda3/envs/tf-deep/lib/python3.6/site-packages/ipykernel_launcher.py:12: DeprecationWarning: `imsave` is deprecated!\n",
      "`imsave` is deprecated in SciPy 1.0.0, and will be removed in 1.2.0.\n",
      "Use ``imageio.imwrite`` instead.\n",
      "  if sys.path[0] == '':\n"
     ]
    },
    {
     "name": "stdout",
     "output_type": "stream",
     "text": [
      "Current loss value:  500177440.0\n",
      "Image saved as:  img/my_result_at_iteration_1.png\n",
      "Iteraion 1 completed in 5s \n",
      "Start of iteration:  2\n",
      "Current loss value:  279504160.0\n",
      "Image saved as:  img/my_result_at_iteration_2.png\n",
      "Iteraion 2 completed in 5s \n",
      "Start of iteration:  3\n",
      "Current loss value:  186898260.0\n",
      "Image saved as:  img/my_result_at_iteration_3.png\n",
      "Iteraion 3 completed in 5s \n",
      "Start of iteration:  4\n",
      "Current loss value:  144537070.0\n",
      "Image saved as:  img/my_result_at_iteration_4.png\n",
      "Iteraion 4 completed in 5s \n",
      "Start of iteration:  5\n",
      "Current loss value:  120775240.0\n",
      "Image saved as:  img/my_result_at_iteration_5.png\n",
      "Iteraion 5 completed in 5s \n",
      "Start of iteration:  6\n",
      "Current loss value:  106237840.0\n",
      "Image saved as:  img/my_result_at_iteration_6.png\n",
      "Iteraion 6 completed in 5s \n",
      "Start of iteration:  7\n",
      "Current loss value:  94279176.0\n",
      "Image saved as:  img/my_result_at_iteration_7.png\n",
      "Iteraion 7 completed in 5s \n",
      "Start of iteration:  8\n",
      "Current loss value:  86003560.0\n",
      "Image saved as:  img/my_result_at_iteration_8.png\n",
      "Iteraion 8 completed in 5s \n",
      "Start of iteration:  9\n",
      "Current loss value:  79392264.0\n",
      "Image saved as:  img/my_result_at_iteration_9.png\n",
      "Iteraion 9 completed in 5s \n",
      "Start of iteration:  10\n",
      "Current loss value:  74574440.0\n",
      "Image saved as:  img/my_result_at_iteration_10.png\n",
      "Iteraion 10 completed in 5s \n",
      "Start of iteration:  11\n",
      "Current loss value:  71523410.0\n",
      "Image saved as:  img/my_result_at_iteration_11.png\n",
      "Iteraion 11 completed in 5s \n",
      "Start of iteration:  12\n",
      "Current loss value:  68285400.0\n",
      "Image saved as:  img/my_result_at_iteration_12.png\n",
      "Iteraion 12 completed in 5s \n",
      "Start of iteration:  13\n",
      "Current loss value:  65620084.0\n",
      "Image saved as:  img/my_result_at_iteration_13.png\n",
      "Iteraion 13 completed in 5s \n",
      "Start of iteration:  14\n",
      "Current loss value:  62614910.0\n",
      "Image saved as:  img/my_result_at_iteration_14.png\n",
      "Iteraion 14 completed in 6s \n",
      "Start of iteration:  15\n",
      "Current loss value:  60276068.0\n",
      "Image saved as:  img/my_result_at_iteration_15.png\n",
      "Iteraion 15 completed in 5s \n",
      "Start of iteration:  16\n",
      "Current loss value:  58475236.0\n",
      "Image saved as:  img/my_result_at_iteration_16.png\n",
      "Iteraion 16 completed in 6s \n",
      "Start of iteration:  17\n",
      "Current loss value:  56699652.0\n",
      "Image saved as:  img/my_result_at_iteration_17.png\n",
      "Iteraion 17 completed in 5s \n",
      "Start of iteration:  18\n",
      "Current loss value:  54887100.0\n",
      "Image saved as:  img/my_result_at_iteration_18.png\n",
      "Iteraion 18 completed in 5s \n",
      "Start of iteration:  19\n",
      "Current loss value:  53511476.0\n",
      "Image saved as:  img/my_result_at_iteration_19.png\n",
      "Iteraion 19 completed in 5s \n",
      "Start of iteration:  20\n",
      "Current loss value:  51902160.0\n",
      "Image saved as:  img/my_result_at_iteration_20.png\n",
      "Iteraion 20 completed in 5s \n",
      "Start of iteration:  21\n",
      "Current loss value:  50724470.0\n",
      "Image saved as:  img/my_result_at_iteration_21.png\n",
      "Iteraion 21 completed in 5s \n",
      "Start of iteration:  22\n",
      "Current loss value:  49819340.0\n",
      "Image saved as:  img/my_result_at_iteration_22.png\n",
      "Iteraion 22 completed in 5s \n",
      "Start of iteration:  23\n",
      "Current loss value:  49017772.0\n",
      "Image saved as:  img/my_result_at_iteration_23.png\n",
      "Iteraion 23 completed in 5s \n",
      "Start of iteration:  24\n",
      "Current loss value:  48021380.0\n",
      "Image saved as:  img/my_result_at_iteration_24.png\n",
      "Iteraion 24 completed in 5s \n",
      "Start of iteration:  25\n",
      "Current loss value:  47226560.0\n",
      "Image saved as:  img/my_result_at_iteration_25.png\n",
      "Iteraion 25 completed in 5s \n",
      "Start of iteration:  26\n",
      "Current loss value:  46516784.0\n",
      "Image saved as:  img/my_result_at_iteration_26.png\n",
      "Iteraion 26 completed in 6s \n",
      "Start of iteration:  27\n",
      "Current loss value:  45832176.0\n",
      "Image saved as:  img/my_result_at_iteration_27.png\n",
      "Iteraion 27 completed in 5s \n",
      "Start of iteration:  28\n",
      "Current loss value:  45303424.0\n",
      "Image saved as:  img/my_result_at_iteration_28.png\n",
      "Iteraion 28 completed in 6s \n",
      "Start of iteration:  29\n",
      "Current loss value:  44720440.0\n",
      "Image saved as:  img/my_result_at_iteration_29.png\n",
      "Iteraion 29 completed in 6s \n",
      "Start of iteration:  30\n",
      "Current loss value:  44171636.0\n",
      "Image saved as:  img/my_result_at_iteration_30.png\n",
      "Iteraion 30 completed in 6s \n",
      "Start of iteration:  31\n",
      "Current loss value:  43722504.0\n",
      "Image saved as:  img/my_result_at_iteration_31.png\n",
      "Iteraion 31 completed in 5s \n",
      "Start of iteration:  32\n",
      "Current loss value:  42991080.0\n",
      "Image saved as:  img/my_result_at_iteration_32.png\n",
      "Iteraion 32 completed in 5s \n",
      "Start of iteration:  33\n",
      "Current loss value:  42406264.0\n",
      "Image saved as:  img/my_result_at_iteration_33.png\n",
      "Iteraion 33 completed in 5s \n",
      "Start of iteration:  34\n",
      "Current loss value:  42003804.0\n",
      "Image saved as:  img/my_result_at_iteration_34.png\n",
      "Iteraion 34 completed in 5s \n",
      "Start of iteration:  35\n",
      "Current loss value:  41610410.0\n",
      "Image saved as:  img/my_result_at_iteration_35.png\n",
      "Iteraion 35 completed in 5s \n",
      "Start of iteration:  36\n",
      "Current loss value:  41292104.0\n",
      "Image saved as:  img/my_result_at_iteration_36.png\n",
      "Iteraion 36 completed in 5s \n",
      "Start of iteration:  37\n",
      "Current loss value:  40842572.0\n",
      "Image saved as:  img/my_result_at_iteration_37.png\n",
      "Iteraion 37 completed in 5s \n",
      "Start of iteration:  38\n",
      "Current loss value:  40459944.0\n",
      "Image saved as:  img/my_result_at_iteration_38.png\n",
      "Iteraion 38 completed in 5s \n",
      "Start of iteration:  39\n",
      "Current loss value:  40174200.0\n",
      "Image saved as:  img/my_result_at_iteration_39.png\n",
      "Iteraion 39 completed in 5s \n",
      "Start of iteration:  40\n",
      "Current loss value:  39907536.0\n",
      "Image saved as:  img/my_result_at_iteration_40.png\n",
      "Iteraion 40 completed in 5s \n",
      "Start of iteration:  41\n",
      "Current loss value:  39088852.0\n",
      "Image saved as:  img/my_result_at_iteration_41.png\n",
      "Iteraion 41 completed in 5s \n",
      "Start of iteration:  42\n",
      "Current loss value:  38404268.0\n",
      "Image saved as:  img/my_result_at_iteration_42.png\n",
      "Iteraion 42 completed in 5s \n",
      "Start of iteration:  43\n",
      "Current loss value:  37909364.0\n",
      "Image saved as:  img/my_result_at_iteration_43.png\n",
      "Iteraion 43 completed in 6s \n",
      "Start of iteration:  44\n",
      "Current loss value:  37524252.0\n",
      "Image saved as:  img/my_result_at_iteration_44.png\n",
      "Iteraion 44 completed in 6s \n",
      "Start of iteration:  45\n",
      "Current loss value:  37229884.0\n",
      "Image saved as:  img/my_result_at_iteration_45.png\n",
      "Iteraion 45 completed in 6s \n",
      "Start of iteration:  46\n",
      "Current loss value:  36994708.0\n",
      "Image saved as:  img/my_result_at_iteration_46.png\n",
      "Iteraion 46 completed in 6s \n",
      "Start of iteration:  47\n"
     ]
    }
   ],
   "source": [
    "x = preprocess_image(target_image_path)\n",
    "x = x.flatten()\n",
    "\n",
    "for i in range(iterations):\n",
    "    print('Start of iteration: ',i)\n",
    "    start_time = time.time()\n",
    "    x, min_val, info = fmin_l_bfgs_b(evaluator.loss,x,fprime=evaluator.grads, maxfun=20)\n",
    "    print('Current loss value: ', min_val)\n",
    "    img = x.copy().reshape((img_height, img_width, 3))\n",
    "    img = deprocess_image(img)\n",
    "    fname = result_prefix + '_at_iteration_%d.png'%i\n",
    "    imsave(fname, img)\n",
    "    print('Image saved as: ', fname)\n",
    "    end_time = time.time()\n",
    "    print('Iteraion %d completed in %ds '% (i, end_time-start_time))"
   ]
  },
  {
   "cell_type": "code",
   "execution_count": null,
   "metadata": {},
   "outputs": [],
   "source": [
    "import tensorflow as tf\n",
    "sess = tf.Session(config=tf.ConfigProto(log_device_placement=True))"
   ]
  },
  {
   "cell_type": "code",
   "execution_count": null,
   "metadata": {},
   "outputs": [],
   "source": []
  }
 ],
 "metadata": {
  "kernelspec": {
   "display_name": "Python 3",
   "language": "python",
   "name": "python3"
  },
  "language_info": {
   "codemirror_mode": {
    "name": "ipython",
    "version": 3
   },
   "file_extension": ".py",
   "mimetype": "text/x-python",
   "name": "python",
   "nbconvert_exporter": "python",
   "pygments_lexer": "ipython3",
   "version": "3.6.8"
  }
 },
 "nbformat": 4,
 "nbformat_minor": 2
}
